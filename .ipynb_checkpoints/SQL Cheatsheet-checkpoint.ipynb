{
 "cells": [
  {
   "cell_type": "markdown",
   "id": "70f4620c",
   "metadata": {},
   "source": [
    "# SQL Cheatsheet"
   ]
  },
  {
   "cell_type": "markdown",
   "id": "ccf34984",
   "metadata": {},
   "source": [
    "- A database is a repository of data that provides functionality for adding, modifying, and querying the data. \n",
    "- SQL is a language used to query or retrieve data from a relational database. \n",
    "- The Relational Model is the most used data model for databases because it allows for data independence. \n",
    "- The primary key of a relational table uniquely identifies each tuple or row, preventing duplication of data and providing a way of defining relationships between tables. \n",
    "- SQL statements fall into two different categories: Data Definition Language (DDL) statements and Data Manipulation Language (DML) statements."
   ]
  },
  {
   "cell_type": "markdown",
   "id": "713fd023",
   "metadata": {},
   "source": [
    "**The following are DML (Data Manipulation Languange) statements**"
   ]
  },
  {
   "cell_type": "markdown",
   "id": "289ab692",
   "metadata": {},
   "source": [
    "## SELECT\n",
    "\n",
    "The SELECT statement is used to select data from a database.\n",
    "\n",
    "```SQL\n",
    "SELECT column1, column2, ...\n",
    "FROM table_name\n",
    "WHERE condition\n",
    ";\n",
    "```\n",
    "\n",
    "**What do the keywords / clauses of a SQL statement shown above do?**\n",
    "\n",
    "- FROM: Specifies from which table to get the data. The clause can include optional JOIN subclauses to specify the rules for joining tables.\n",
    "- [Optional Clause] WHERE : Specifies which rows to retrieve."
   ]
  },
  {
   "cell_type": "markdown",
   "id": "1bc7c7e1",
   "metadata": {},
   "source": [
    "### COUNT\n",
    "\n",
    "Retrieve the number of rows from the table_name.\n",
    "\n",
    "```SQL\n",
    "SELECT COUNT(*) FROM table_name;\n",
    "```\n",
    "\n",
    "### DISTINCT\n",
    "\n",
    "Retrieve the name of all films without any repeated values.\n",
    "\n",
    "```SQL\n",
    "SELECT DISTINCT column FROM table_name;\n",
    "\n",
    "```\n",
    "\n",
    "### LIMIT\n",
    "\n",
    "Retrieve the first 25 rows from the table.\n",
    "\n",
    "```SQL\n",
    "SELECT * FROM table_name LIMIT 25;\n",
    "```"
   ]
  },
  {
   "cell_type": "markdown",
   "id": "db5c3c4a",
   "metadata": {},
   "source": [
    "### Sub-queries and Nested SELECTs\n",
    "\n",
    "```SQL\n",
    "SELECT column_name [, column_name ]\n",
    "FROM table1 [, table2 ]\n",
    "WHERE column_name OPERATOR\n",
    "   (SELECT column_name [, column_name ]\n",
    "   FROM table1 [, table2 ]\n",
    "   WHERE condition);\n",
    "```"
   ]
  },
  {
   "cell_type": "markdown",
   "id": "b590aa40",
   "metadata": {},
   "source": [
    "### Implicit version of CROSS JOIN (also known as Cartesian Join)\n",
    "\n",
    "```SQL\n",
    "SELECT column_name(s)\n",
    "FROM table1, table2;\n",
    "```"
   ]
  },
  {
   "cell_type": "markdown",
   "id": "50caf325",
   "metadata": {},
   "source": [
    "### Implicit version of INNER JOIN statement\n",
    "\n",
    "```SQL\n",
    "SELECT column_name(s)\n",
    "FROM table1, table2\n",
    "WHERE table1.column_name = table2.column_name;\n",
    "```"
   ]
  },
  {
   "cell_type": "markdown",
   "id": "879fcfaf",
   "metadata": {},
   "source": [
    "## INSERT\n",
    "\n",
    "The INSERT statement is used to insert new rows into a table.\n",
    "\n",
    "```SQL\n",
    "INSERT INTO table_name (column1, column2, ... )\n",
    "VALUES (value1, value2, ... )\n",
    ";\n",
    "```"
   ]
  },
  {
   "cell_type": "markdown",
   "id": "11697795",
   "metadata": {},
   "source": [
    "## UPDATE\n",
    "\n",
    "The UPDATE statement is used to update the data in existing rows in the table.\n",
    "\n",
    "```SQL\n",
    "UPDATE table_name\n",
    "SET column1 = value1, column2 = value2, ...\n",
    "WHERE condition\n",
    ";\n",
    "```"
   ]
  },
  {
   "cell_type": "markdown",
   "id": "7262f552",
   "metadata": {},
   "source": [
    "## DELETE\n",
    "\n",
    "The DELETE statement is used to remove rows from a table.\n",
    "\n",
    "```SQL\n",
    "DELETE FROM table_name\n",
    "WHERE condition\n",
    ";\n",
    "```"
   ]
  },
  {
   "cell_type": "markdown",
   "id": "58f66355",
   "metadata": {},
   "source": [
    "**The following are DDL (Data Defintion Language) Statements**"
   ]
  },
  {
   "cell_type": "markdown",
   "id": "a85f4769",
   "metadata": {},
   "source": [
    "## CREATE\n",
    "\n",
    "The CREATE statement is used to create a new table in a database.\n",
    "\n",
    "```SQL\n",
    "CREATE TABLE table_name (\n",
    "    column1 datatype,\n",
    "    column2 datatype,\n",
    "    column3 datatype,\n",
    "   ....\n",
    ");\n",
    "```"
   ]
  },
  {
   "cell_type": "markdown",
   "id": "c46ac240",
   "metadata": {},
   "source": [
    "## ALTER\n",
    "\n",
    "The ALTER statement is used to add, delete, or modify columns in an existing table.\n",
    "\n",
    "```SQL\n",
    "ALTER TABLE table_name\n",
    "ADD COLUMN column_name data_type column_constraint;\n",
    "\n",
    "ALTER TABLE table_name\n",
    "DROP COLUMN column_name;\n",
    "\n",
    "ALTER TABLE table_name\n",
    "ALTER COLUMN column_name SET DATA TYPE data_type;\n",
    "\n",
    "ALTER TABLE table_name\n",
    "RENAME COLUMN current_column_name TO new_column_name;\n",
    "```"
   ]
  },
  {
   "cell_type": "markdown",
   "id": "fae4c39e",
   "metadata": {},
   "source": [
    "## TRUNCATE\n",
    "\n",
    "The TRUNCATE statement is used to remove all rows from an existing table without deleting the table itself.\n",
    "\n",
    "```SQL\n",
    "TRUNCATE TABLE table_name;\n",
    "```"
   ]
  },
  {
   "cell_type": "markdown",
   "id": "fe95c161",
   "metadata": {},
   "source": [
    "## DROP\n",
    "\n",
    "The DROP statement is used to delete an existing table in a database.\n",
    "\n",
    "```SQL\n",
    "DROP TABLE table_name;\n",
    "```"
   ]
  },
  {
   "cell_type": "markdown",
   "id": "23d70327",
   "metadata": {},
   "source": []
  }
 ],
 "metadata": {
  "kernelspec": {
   "display_name": "Python 3 (ipykernel)",
   "language": "python",
   "name": "python3"
  },
  "language_info": {
   "codemirror_mode": {
    "name": "ipython",
    "version": 3
   },
   "file_extension": ".py",
   "mimetype": "text/x-python",
   "name": "python",
   "nbconvert_exporter": "python",
   "pygments_lexer": "ipython3",
   "version": "3.9.7"
  }
 },
 "nbformat": 4,
 "nbformat_minor": 5
}
